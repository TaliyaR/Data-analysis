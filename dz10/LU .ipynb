{
 "cells": [
  {
   "cell_type": "markdown",
   "metadata": {
    "colab_type": "text",
    "id": "ixjV8P1IZS23"
   },
   "source": [
    "# Системы линейных уравнений. "
   ]
  },
  {
   "cell_type": "markdown",
   "metadata": {
    "colab_type": "text",
    "id": "J2D422I0ZS5N"
   },
   "source": [
    "## Практическое задание"
   ]
  },
  {
   "cell_type": "markdown",
   "metadata": {
    "colab_type": "text",
    "id": "cTVfl123ZS5O"
   },
   "source": [
    "__1.__ Решить систему уравнений методом Гаусса:\n",
    "\n",
    "$$\\begin{cases}\n",
    "x_{1}+x_{2}-x_{3}-2x_{4}=0, \\\\\n",
    "2x_{1}+x_{2}-x_{3}+x_{4}=-2, \\\\\n",
    "x_{1}+x_{2}-3x_{3}+x_{4}=4.\n",
    "\\end{cases}$$"
   ]
  },
  {
   "cell_type": "markdown",
   "metadata": {},
   "source": [
    "__РЕШЕНИЕ__\n",
    "\n",
    "$$\\begin{pmatrix}\n",
    "\\left.\\begin{matrix}\n",
    "1 & 1 & -1 & -2\\\\ \n",
    "2 & 1 & -1 & 1\\\\ \n",
    "1 & 1 & -3 & 1\n",
    "\\end{matrix}\\right|\n",
    "\\begin{matrix}\n",
    "0\\\\ \n",
    "-2\\\\\n",
    "4\\\\\n",
    "\\end{matrix}\n",
    "\\end{pmatrix}\\Leftrightarrow \\begin{pmatrix}\n",
    "\\left.\\begin{matrix}\n",
    "1 & 1 & -1 & -2\\\\ \n",
    "0 & -1 & 1 & 5\\\\ \n",
    "0 & 0 & -2 & 3\n",
    "\\end{matrix}\\right|\n",
    "\\begin{matrix}\n",
    "0\\\\ \n",
    "-2\\\\\n",
    "4\\\\\n",
    "\\end{matrix}\n",
    "\\end{pmatrix}\\Leftrightarrow \\begin{pmatrix}\n",
    "\\left.\\begin{matrix}\n",
    "1 & 0 & 0 & 3\\\\ \n",
    "0 & 1 & 0 & -6.5\\\\ \n",
    "0 & 0 & 1 & -1.5\n",
    "\\end{matrix}\\right|\n",
    "\\begin{matrix}\n",
    "-2\\\\ \n",
    "0\\\\\n",
    "-2\\\\\n",
    "\\end{matrix}\n",
    "\\end{pmatrix}\\Leftrightarrow\\begin{cases}\n",
    "x_{1}=-2-3x_4 \\\\\n",
    "x_{2}=6.5x_4 \\\\\n",
    "x_{3}=1.5x_4-2\n",
    "\\end{cases}$$\n",
    "\n",
    "СЛАУ имеет бесконечное кол-во решение указанного вида"
   ]
  },
  {
   "cell_type": "markdown",
   "metadata": {},
   "source": [
    "__2.__ Проверить на совместность и выяснить, сколько решений будет иметь система линейных уравнений:\n",
    "\n",
    "   а) $\\begin{cases}\n",
    "3x_{1}-x_{2}+x_{3}=4, \\\\\n",
    "2x_{1}-5x_{2}-3x_{3}=-17, \\\\\n",
    "x_{1}+x_{2}-x_{3}=0;\n",
    "\\end{cases}\\leftrightarrow\\begin{cases}\n",
    "x_{1}=1, \\\\\n",
    "x_{3}=3, \\\\\n",
    "x_{2}=2;\n",
    "\\end{cases}$\n",
    "\n",
    "СЛАУ совместимая с одним решением"
   ]
  },
  {
   "cell_type": "markdown",
   "metadata": {},
   "source": [
    "$$\\begin{pmatrix}\n",
    "\\left.\\begin{matrix}\n",
    "3 & -1 & 1 \\\\ \n",
    "2 & -5 & -3\\\\ \n",
    "1 & 1 & -1 \n",
    "\\end{matrix}\\right|\n",
    "\\begin{matrix}\n",
    "4\\\\ \n",
    "-17\\\\\n",
    "0\\\\\n",
    "\\end{matrix}\n",
    "\\end{pmatrix} \\Leftrightarrow \\begin{pmatrix}\n",
    "\\left.\\begin{matrix}\n",
    "0 & -4 & 4 \\\\ \n",
    "0 & -7 & -1 \\\\ \n",
    "1 & 1 & -1\n",
    "\\end{matrix}\\right|\n",
    "\\begin{matrix}\n",
    "4\\\\ \n",
    "-17\\\\\n",
    "0\\\\\n",
    "\\end{matrix}\n",
    "\\end{pmatrix}\\Leftrightarrow \\begin{pmatrix}\n",
    "\\left.\\begin{matrix}\n",
    "0 & 1 & 0\\\\ \n",
    "0 & 0 & 1\\\\ \n",
    "1 & 0 & 0\n",
    "\\end{matrix}\\right|\n",
    "\\begin{matrix}\n",
    "2\\\\ \n",
    "3\\\\\n",
    "1\\\\\n",
    "\\end{matrix}\n",
    "\\end{pmatrix}\\Leftrightarrow\\begin{cases}\n",
    "x_{1}=1 \\\\\n",
    "x_{2}=2\\\\\n",
    "x_{3}=3\n",
    "\\end{cases}$$"
   ]
  },
  {
   "cell_type": "code",
   "execution_count": 3,
   "metadata": {},
   "outputs": [],
   "source": [
    "import numpy as np"
   ]
  },
  {
   "cell_type": "code",
   "execution_count": 5,
   "metadata": {},
   "outputs": [
    {
     "name": "stdout",
     "output_type": "stream",
     "text": [
      "Ранг матрицы коэфициентов: 3\n",
      "Ранг расширенной матрицы: 3\n"
     ]
    }
   ],
   "source": [
    "A = np.array([[3,-1,-1],[2,-5, -3],[1,1,-1]])\n",
    "print(\"Ранг матрицы коэфициентов:\", np.linalg.matrix_rank(A))\n",
    "A_ = np.array([[3,-1,-1,4],[2,-5, -3,-17],[1,1,-1,0]])\n",
    "print(\"Ранг расширенной матрицы:\", np.linalg.matrix_rank(A_))"
   ]
  },
  {
   "cell_type": "markdown",
   "metadata": {},
   "source": [
    "б) $\\begin{cases}\n",
    "2x_{1}-4x_{2}+6x_{3}=1, \\\\\n",
    "x_{1}-2x_{2}+3x_{3}=-2, \\\\\n",
    "3x_{1}-6x_{2}+9x_{3}=5;\n",
    "\\end{cases}\\leftrightarrow \\begin{cases}\n",
    "0=5, \\\\\n",
    "x_{1}-2x_{2}+3x_{3}=-2, \\\\\n",
    "0=11;\n",
    "\\end{cases}$\n",
    "\n",
    "СЛАУ несовместимая и не имеет решений"
   ]
  },
  {
   "cell_type": "code",
   "execution_count": 20,
   "metadata": {},
   "outputs": [
    {
     "name": "stdout",
     "output_type": "stream",
     "text": [
      "Ранг матрицы коэфициентов: 2\n",
      "Ранг расширенной матрицы: 3\n"
     ]
    }
   ],
   "source": [
    "import numpy as np\n",
    "A = np.array([[2,-4,-6],[1,-2,3],[3,-6,9]])\n",
    "print(\"Ранг матрицы коэфициентов:\", np.linalg.matrix_rank(A))\n",
    "A_ = np.array([[2,-4,-6,1],[1,-2,3,-2],[3,-6,9,5]])\n",
    "print(\"Ранг расширенной матрицы:\", np.linalg.matrix_rank(A_))"
   ]
  },
  {
   "cell_type": "markdown",
   "metadata": {},
   "source": [
    "в) $\\begin{cases}\n",
    "x_{1}+2x_{2}+5x_{3}=4, \\\\\n",
    "3x_{1}+x_{2}-8x_{3}=-2. \n",
    "\\end{cases} \\leftrightarrow\\begin{cases}\n",
    "5x_{1} = 21x_3 - 8, \\\\\n",
    "5x_{2} = 14 - 23x_3 \n",
    "\\end{cases}$\n",
    "\n",
    "СЛАУ совместимая с бесконечным кол-вом решений"
   ]
  },
  {
   "cell_type": "code",
   "execution_count": 7,
   "metadata": {},
   "outputs": [
    {
     "name": "stdout",
     "output_type": "stream",
     "text": [
      "Ранг матрицы коэфициентов: 2\n",
      "Ранг расширенной матрицы: 2\n"
     ]
    }
   ],
   "source": [
    "A = np.array([[1,2,5],[3,1,-8]])\n",
    "print(\"Ранг матрицы коэфициентов:\", np.linalg.matrix_rank(A))\n",
    "A_ = np.array([[1,2,5,4],[3,1,-8,-2]])\n",
    "print(\"Ранг расширенной матрицы:\", np.linalg.matrix_rank(A_))"
   ]
  },
  {
   "cell_type": "markdown",
   "metadata": {},
   "source": [
    "__3.__ Проверить на совместность и выяснить, сколько решений будет иметь система линейных уравнений, заданная расширенной матрицей\n",
    "\n",
    "$$\\tilde{A}=\\begin{pmatrix}\n",
    "\\left.\\begin{matrix}\n",
    "1 & 3 & -2 & 4\\\\ \n",
    "0 & 5 & 0 & 1\\\\ \n",
    "0 & 0 & 3 & 0\\\\ \n",
    "0 & 0 & 0 & 2\n",
    "\\end{matrix}\\right|\n",
    "\\begin{matrix}\n",
    "3\\\\ \n",
    "2\\\\\n",
    "4\\\\\n",
    "1\n",
    "\\end{matrix}\n",
    "\\end{pmatrix}.$$\n"
   ]
  },
  {
   "cell_type": "code",
   "execution_count": 8,
   "metadata": {},
   "outputs": [
    {
     "name": "stdout",
     "output_type": "stream",
     "text": [
      "Ранг матрицы коэфициентов: 4\n",
      "Ранг расширенной матрицы: 4\n",
      "Согласно Теореме Кронекера — Капелли система совместима и имеет одно решение так как ранг матрицы коэфициентов и расширеной матрицы совпадают и равны числу неизвестных\n"
     ]
    }
   ],
   "source": [
    "import numpy as np\n",
    "A = np.array([[1,3,-2,4],[0,5,0,1],[0,0,3,0],[0,0,0,2]])\n",
    "\n",
    "A_ = np.array([[1,3,-2,4,3],[0,5,0,1,2],[0,0,3,0,4],[0,0,0,2,1]])\n",
    "\n",
    "print(\"Ранг матрицы коэфициентов:\", np.linalg.matrix_rank(A))\n",
    "print(\"Ранг расширенной матрицы:\", np.linalg.matrix_rank(A_))\n",
    "print(\"Согласно Теореме Кронекера — Капелли система совместима и имеет одно решение так как ранг матрицы коэфициентов и расширеной матрицы совпадают и равны числу неизвестных\")"
   ]
  },
  {
   "cell_type": "markdown",
   "metadata": {},
   "source": [
    "__4.__ Дана система линейных уравнений, заданная расширенной матрицей\n",
    "\n",
    "$$\\tilde{A}=\\begin{pmatrix}\n",
    "\\left.\\begin{matrix}\n",
    "1 & 2 & 3\\\\ \n",
    "4 & 5 & 6\\\\ \n",
    "7 & 8 & 9\n",
    "\\end{matrix}\\right|\n",
    "\\begin{matrix}\n",
    "a\\\\ \n",
    "b\\\\\n",
    "c\n",
    "\\end{matrix}\n",
    "\\end{pmatrix}.$$\n",
    "\n",
    "Найти соотношение между параметрами $a$, $b$ и $c$, при которых система является несовместной."
   ]
  },
  {
   "cell_type": "markdown",
   "metadata": {},
   "source": [
    "В случае если равенство\n",
    "\n",
    "$c = 2b - a$\n",
    "\n",
    "не выполняется, система является не совместной"
   ]
  },
  {
   "cell_type": "markdown",
   "metadata": {},
   "source": [
    "__5.__ Решить систему уравнений методом Крамера:\n",
    "\n",
    "   а) $\\begin{cases}\n",
    "x_{1}-2x_{2}=1 \\\\\n",
    "3x_{1}-4x_{2}=7\n",
    "\\end{cases}$"
   ]
  },
  {
   "cell_type": "markdown",
   "metadata": {},
   "source": [
    "Найдем определитель матрицы коэффициентов:\n",
    "$$detA=\\begin{vmatrix}\n",
    "1 & -2 \\\\ \n",
    "3 & -4\n",
    "\\end{vmatrix}=(1 \\cdot (-4))-(-2\\cdot 3)=2$$\n",
    "\n",
    "следовательно, система совместна.\n"
   ]
  },
  {
   "cell_type": "markdown",
   "metadata": {},
   "source": [
    "Найдем определители $detA_{1}$, $detA_{2}$:\n",
    "\n",
    "$$detA_{1}=\\begin{vmatrix}\n",
    "1 & -2\\\\ \n",
    "7 & -4 \n",
    "\\end{vmatrix}= (1 \\cdot (-4))-(-2\\cdot 7)=10$$\n",
    "\n",
    "$$detA_{2}=\\begin{vmatrix}\n",
    "1 & 1 \\\\ \n",
    "3 & 7\n",
    "\\end{vmatrix}=7-3=4$$\n",
    "\n",
    "Найдем решение по формулам Крамера:\n",
    "\n",
    "$$x_{1} = \\frac{detA_{1}}{detA} = \\frac{10}{2}=5,$$\n",
    "\n",
    "$$x_{2} = \\frac{detA_{2}}{detA} = \\frac{4}{2}=2,$$\n",
    "\n",
    "Проверим"
   ]
  },
  {
   "cell_type": "code",
   "execution_count": 9,
   "metadata": {},
   "outputs": [
    {
     "name": "stdout",
     "output_type": "stream",
     "text": [
      "х1 = 5\n",
      "х2 = 2\n"
     ]
    }
   ],
   "source": [
    "A = np.array([[1,-2],[3,-4]])\n",
    "A1 = np.array([[1,-2],[7,-4]])\n",
    "A2 = np.array([[1,1],[3,7]])\n",
    "print(f'х1 = {np.linalg.det(A1)/np.linalg.det(A):.0f}')\n",
    "print(f'х2 = {np.linalg.det(A2)/np.linalg.det(A):.0f}')"
   ]
  },
  {
   "cell_type": "markdown",
   "metadata": {},
   "source": [
    " __6.__ Найти $L$-матрицу $LU$-разложения для матрицы коэффициентов:"
   ]
  },
  {
   "cell_type": "markdown",
   "metadata": {},
   "source": [
    "  $$\\begin{pmatrix}\n",
    "1 & 2 & 4 \\\\ \n",
    "2 & 9 & 12 \\\\ \n",
    "3 & 26 & 30\n",
    "\\end{pmatrix}$$"
   ]
  },
  {
   "cell_type": "markdown",
   "metadata": {},
   "source": [
    "$$L = \\begin{pmatrix}\n",
    "1 & 0 & 0 \\\\ \n",
    "2 & 1 & 0 \\\\ \n",
    "3 & 4 & 1\n",
    "\\end{pmatrix}$$"
   ]
  },
  {
   "cell_type": "code",
   "execution_count": 33,
   "metadata": {},
   "outputs": [
    {
     "name": "stdout",
     "output_type": "stream",
     "text": [
      "[[ 1  2  4]\n",
      " [ 2  9 12]\n",
      " [ 3 26 30]]\n",
      "[[0. 0. 1.]\n",
      " [0. 1. 0.]\n",
      " [1. 0. 0.]]\n",
      "[[1.   0.   0.  ]\n",
      " [0.67 1.   0.  ]\n",
      " [0.33 0.8  1.  ]]\n",
      "[[ 3.   26.   30.  ]\n",
      " [ 0.   -8.33 -8.  ]\n",
      " [ 0.    0.    0.4 ]]\n",
      "[[ 1.  2.  4.]\n",
      " [ 2.  9. 12.]\n",
      " [ 3. 26. 30.]]\n"
     ]
    }
   ],
   "source": [
    "\n",
    "# LU decomposition\n",
    "from numpy import array\n",
    "from scipy.linalg import lu\n",
    "# define a square matrix\n",
    "A = array([[1, 2, 4], [2, 9, 12], [3, 26, 30]])\n",
    "print(A)\n",
    "# LU decomposition\n",
    "P, L, U = lu(A)\n",
    "print(P)\n",
    "print(L)\n",
    "print(U)\n",
    "# reconstruct\n",
    "B = P.dot(L).dot(U)\n",
    "print(B)"
   ]
  },
  {
   "cell_type": "markdown",
   "metadata": {},
   "source": [
    "__7.__ Решить систему линейных уравнений методом $LU$-разложения\n",
    "\n",
    "$$\\begin{cases}\n",
    "2x_{1}+x_{2}+3x_{3}=1 \\\\\n",
    "11x_{1}+7x_{2}+5x_{3}=-6 \\\\\n",
    "9x_{1}+8x_{2}+4x_{3}=-5\n",
    "\\end{cases}$$"
   ]
  },
  {
   "cell_type": "markdown",
   "metadata": {},
   "source": [
    "Матрица коэффициентов $A$ будет иметь вид\n",
    "\n",
    "$$\\begin{pmatrix}\n",
    "2 & 1 & 3 \\\\ \n",
    "11 & 7 & 5 \\\\ \n",
    "9 & 8 & 4\n",
    "\\end{pmatrix}$$"
   ]
  },
  {
   "cell_type": "markdown",
   "metadata": {},
   "source": [
    "Начнем прямой ход метода Гаусса.\n",
    "Матрица коэффициентов будет иметь вид\n",
    "$$\\begin{pmatrix}\n",
    "2 & 1 & 3 \\\\ \n",
    "0 & \\frac{3}{2} & \\frac{-23}{2}\\\\\n",
    "0 & 0 & \\frac{52}{3}\n",
    "\\end{pmatrix}$$"
   ]
  },
  {
   "cell_type": "markdown",
   "metadata": {},
   "source": [
    "а матрица $L$ —\n",
    "\n",
    "$$\\begin{pmatrix}\n",
    "1 & 0 & 0 \\\\ \n",
    "\\frac{11}{2} & 1 & 0 \\\\ \n",
    "\\frac{9}{2} & \\frac{7}{2} & 1\n",
    "\\end{pmatrix}.$$"
   ]
  },
  {
   "cell_type": "markdown",
   "metadata": {},
   "source": [
    "Решим теперь систему $Ly=b:$\n",
    "\n",
    "$$\\begin{cases}\n",
    "y_{1}=1, \\\\\n",
    "\\frac{11}{2}y_{1}+y_{2}=-6, \\\\\n",
    "\\frac{9}{2}y_{1}+ \\frac{7}{2}y_{2}+y_{3}=-5.\n",
    "\\end{cases}$$\n",
    "\n",
    "$$y_{1} = 1,$$\n",
    "\n",
    "$$y_{2}=-6 -\\frac{11}{2} =11.5$$\n",
    "\n",
    "$$y_{3}=-5-\\frac{9}{2} - \\frac{7}{2}=-13.$$"
   ]
  },
  {
   "cell_type": "markdown",
   "metadata": {},
   "source": [
    "И затем систему\n",
    "\n",
    "$$x_1 = -1$$"
   ]
  },
  {
   "cell_type": "markdown",
   "metadata": {},
   "source": [
    "Произведем проверку, подставив полученные значения переменных в исходную систему:\n",
    "$$\\begin{cases}\n",
    "2(-1)+3=1 \\\\\n",
    "11(-1)+5=-6 \\\\\n",
    "9(-1)+4=-5\n",
    "\\end{cases}$$"
   ]
  },
  {
   "cell_type": "markdown",
   "metadata": {},
   "source": [
    "__8.__ Решить систему линейных уравнений методом Холецкого\n",
    "\n",
    "$$\\begin{cases}\n",
    "81x_{1}-45x_{2}+45x_{3}=531 \\\\\n",
    "-45x_{1}+50x_{2}-15x_{3}=-460 \\\\\n",
    "45x_{1}-15x_{2}+38x_{3}=193\n",
    "\\end{cases}$$"
   ]
  },
  {
   "cell_type": "markdown",
   "metadata": {},
   "source": [
    "Произведем разложение на $LL^{T}$:\n",
    "\n",
    "$$l_{11}=\\sqrt{a_{11}}=\\sqrt{81} = 9,$$\n",
    "$$l_{21}=\\frac{a_{21}}{l_{11}}=\\frac{-45}{9} = -5,$$\n",
    "$$l_{31}=\\frac{a_{31}}{l_{11}}=\\frac{45}{9} = 5,$$\n",
    "\n",
    "$$l_{22}=\\sqrt{a_{22}-l_{21}^{2}}=\\sqrt{50 - 25} = 5,$$\n",
    "$$l_{32}=\\frac{1}{l_{22}}\\left ( a_{32}-l_{12}l_{13} \\right)=\\frac{1}{5}\\left ( -15 - (-5)\\cdot 5 \\right )=2,$$\n",
    "\n",
    "$$l_{33}=\\sqrt{a_{33}-l_{13}^{2}-l_{32}^{2}}=\\sqrt{38-25-4}=\\sqrt{9} = 3.$$"
   ]
  },
  {
   "cell_type": "markdown",
   "metadata": {},
   "source": [
    "Получили матрицу \n",
    "\n",
    "$$L = \\begin{pmatrix}\n",
    "9 & 0 & 0 \\\\ \n",
    "-5 & 5 & 0 \\\\ \n",
    "5 & 2 & 3\n",
    "\\end{pmatrix}, \n",
    "\\; \\; \n",
    "L^{T} = \\begin{pmatrix}\n",
    "9 & -5 & 5\\\\ \n",
    "0 & 5 & 2 \\\\ \n",
    "0 & 0 & 3\n",
    "\\end{pmatrix}.$$"
   ]
  },
  {
   "cell_type": "markdown",
   "metadata": {},
   "source": [
    "Решим систему $Ly=b:$\n",
    "\n",
    "$$\\begin{cases}\n",
    "9y_{1}=531, \\\\\n",
    "-5y_{1}+5y_{2}=-460, \\\\\n",
    "5y_{1}+2y_{2}+3y_{3}=193.\n",
    "\\end{cases}$$\n",
    "\n",
    "$$y_{1} = 59,$$\n",
    "\n",
    "$$y_{2}=\\frac{5\\cdot 59 - 460}{5} = -33,$$\n",
    "\n",
    "$$y_{3}=\\frac{193 - 5 \\cdot 59 -2 \\cdot (-33)}{3}=-12.$$"
   ]
  },
  {
   "cell_type": "markdown",
   "metadata": {},
   "source": [
    "И решим систему $L^{T}x=y:$\n",
    "\n",
    "$$\\begin{cases}\n",
    "9x_{1}-5x_{2}+5x_{3}=59, \\\\\n",
    "5x_{2}+2x_{3}=-33, \\\\\n",
    "3x_{3}=-12.\n",
    "\\end{cases}$$\n",
    "\n",
    "$$x_{3}=-4,$$\n",
    "\n",
    "$$x_{2}=\\frac{-33+8}{5} = -5$$\n",
    "\n",
    "$$x_{1}=\\frac{59-25+20}{9}=6.$$"
   ]
  },
  {
   "cell_type": "markdown",
   "metadata": {},
   "source": [
    "Осуществим проверку c помощью numpy"
   ]
  },
  {
   "cell_type": "code",
   "execution_count": 31,
   "metadata": {},
   "outputs": [
    {
     "name": "stdout",
     "output_type": "stream",
     "text": [
      "[[ 81 -45  45]\n",
      " [-45  50 -15]\n",
      " [ 45 -15  38]]\n",
      "[[ 9.  0.  0.]\n",
      " [-5.  5.  0.]\n",
      " [ 5.  2.  3.]]\n",
      "[[ 81. -45.  45.]\n",
      " [-45.  50. -15.]\n",
      " [ 45. -15.  38.]]\n"
     ]
    }
   ],
   "source": [
    "from numpy.linalg import cholesky\n",
    "\n",
    "A = np.array([[81, -45, 45], [-45, 50, -15], [45, -15, 38]])\n",
    "print(A)\n",
    "\n",
    "L = cholesky(A)\n",
    "print(L)\n",
    "\n",
    "B = L.dot(L.T)\n",
    "print(B)"
   ]
  },
  {
   "cell_type": "markdown",
   "metadata": {},
   "source": [
    "9. 1. Найти с помощью NumPy SVD для матрицы\n",
    "\n",
    "$$\\begin{pmatrix}\n",
    "1 & 2 & 0\\\\ \n",
    "0 & 0 & 5\\\\ \n",
    "3 & -4 & 2\\\\ \n",
    "1 & 6 & 5\\\\ \n",
    "0 & 1 & 0\n",
    "\\end{pmatrix}.$$"
   ]
  },
  {
   "cell_type": "code",
   "execution_count": 17,
   "metadata": {},
   "outputs": [],
   "source": [
    "#Определим способ отображения чисел с плавающей запятой\n",
    "np.set_printoptions(precision=2, suppress=True)"
   ]
  },
  {
   "cell_type": "code",
   "execution_count": 18,
   "metadata": {},
   "outputs": [
    {
     "name": "stdout",
     "output_type": "stream",
     "text": [
      "Матрица A:\n",
      "[[ 1  2  0]\n",
      " [ 0  0  5]\n",
      " [ 3 -4  2]\n",
      " [ 1  6  5]\n",
      " [ 0  1  0]]\n"
     ]
    }
   ],
   "source": [
    "A = np.array([[1, 2, 0],\n",
    "              [0, 0, 5],\n",
    "              [3, -4, 2],\n",
    "              [1, 6, 5],\n",
    "              [0, 1, 0]])\n",
    "print(f'Матрица A:\\n{A}')"
   ]
  },
  {
   "cell_type": "code",
   "execution_count": 19,
   "metadata": {},
   "outputs": [],
   "source": [
    "U, s, W = np.linalg.svd(A)\n",
    "\n",
    "# Транспонируем матрицу W\n",
    "V = W.T\n",
    "\n",
    "# s - список диагональных элементов, его нужно привести к виду диагональной матрицы для наглядности\n",
    "D = np.zeros_like(A, dtype=float)\n",
    "D[np.diag_indices(min(A.shape))] = s"
   ]
  },
  {
   "cell_type": "code",
   "execution_count": 20,
   "metadata": {},
   "outputs": [
    {
     "name": "stdout",
     "output_type": "stream",
     "text": [
      "Матрица D:\n",
      "[[8.82 0.   0.  ]\n",
      " [0.   6.14 0.  ]\n",
      " [0.   0.   2.53]\n",
      " [0.   0.   0.  ]\n",
      " [0.   0.   0.  ]]\n"
     ]
    }
   ],
   "source": [
    "print(f'Матрица D:\\n{D}')"
   ]
  },
  {
   "cell_type": "code",
   "execution_count": 22,
   "metadata": {},
   "outputs": [
    {
     "name": "stdout",
     "output_type": "stream",
     "text": [
      "Матрица U:\n",
      "[[ 0.17  0.16 -0.53 -0.8  -0.16]\n",
      " [ 0.39 -0.53  0.61 -0.43  0.03]\n",
      " [-0.14 -0.82 -0.52  0.14  0.07]\n",
      " [ 0.89  0.06 -0.25  0.38 -0.06]\n",
      " [ 0.08  0.11 -0.08 -0.11  0.98]]\n"
     ]
    }
   ],
   "source": [
    "print(f'Матрица U:\\n{U}')"
   ]
  },
  {
   "cell_type": "code",
   "execution_count": 24,
   "metadata": {},
   "outputs": [
    {
     "name": "stdout",
     "output_type": "stream",
     "text": [
      "[[ 1.  0. -0. -0. -0.]\n",
      " [ 0.  1.  0. -0.  0.]\n",
      " [-0.  0.  1. -0. -0.]\n",
      " [-0. -0. -0.  1. -0.]\n",
      " [-0.  0. -0. -0.  1.]]\n"
     ]
    }
   ],
   "source": [
    "# Убедимся, что она действительно ортогональна\n",
    "print(np.dot(U.T, U))"
   ]
  },
  {
   "cell_type": "code",
   "execution_count": 26,
   "metadata": {},
   "outputs": [
    {
     "name": "stdout",
     "output_type": "stream",
     "text": [
      "Матрица V:\n",
      "[[ 0.07 -0.37 -0.93]\n",
      " [ 0.72  0.67 -0.21]\n",
      " [ 0.69 -0.65  0.31]]\n"
     ]
    }
   ],
   "source": [
    "print(f'Матрица V:\\n{V}')"
   ]
  },
  {
   "cell_type": "code",
   "execution_count": 28,
   "metadata": {},
   "outputs": [
    {
     "name": "stdout",
     "output_type": "stream",
     "text": [
      "[[ 1.  0.  0.]\n",
      " [ 0.  1. -0.]\n",
      " [ 0. -0.  1.]]\n"
     ]
    }
   ],
   "source": [
    "# Убедимся, что она действительно ортогональна\n",
    "print(np.dot(V.T, V))"
   ]
  },
  {
   "cell_type": "code",
   "execution_count": 30,
   "metadata": {},
   "outputs": [
    {
     "name": "stdout",
     "output_type": "stream",
     "text": [
      "[[ 1.  2.  0.]\n",
      " [ 0. -0.  5.]\n",
      " [ 3. -4.  2.]\n",
      " [ 1.  6.  5.]\n",
      " [-0.  1.  0.]]\n"
     ]
    }
   ],
   "source": [
    "# Проведем проверку\n",
    "print(np.dot(np.dot(U, D), V.T))"
   ]
  }
 ],
 "metadata": {
  "colab": {
   "collapsed_sections": [],
   "name": "Lesson_6-REVISED.ipynb",
   "provenance": []
  },
  "kernelspec": {
   "display_name": "Python 3",
   "language": "python",
   "name": "python3"
  },
  "language_info": {
   "codemirror_mode": {
    "name": "ipython",
    "version": 3
   },
   "file_extension": ".py",
   "mimetype": "text/x-python",
   "name": "python",
   "nbconvert_exporter": "python",
   "pygments_lexer": "ipython3",
   "version": "3.7.6"
  }
 },
 "nbformat": 4,
 "nbformat_minor": 1
}
